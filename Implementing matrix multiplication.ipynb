{
 "cells": [
  {
   "cell_type": "code",
   "execution_count": null,
   "metadata": {},
   "outputs": [],
   "source": []
  },
  {
   "cell_type": "markdown",
   "metadata": {},
   "source": [
    "Matrix Multiplication: \n",
    "\n",
    "First row of 𝐴 with all columns of B:\n",
    "c11 = (-1)(0) + (2)(0) + (3)(2) = 0 + 0 + 6 = 6\n",
    "c12 = (-1)(2) + (2)(2) + (3)(9) = -2 + 4 + 27 = 29\n",
    "c13 = (−1)(1) + (2)(−8) + (3)(-1) = −1 − 16 − 3 = −20\n",
    "\n",
    "Second row of A with all columns of B:\n",
    "c21 = (4)(0) + (−5)(0) + (6)(2) = 0 + 0 + 12 = 12\n",
    "c22 = (4)(2) + (−5)(2) + (6)(9) = 8 − 10 + 54 = 52\n",
    "c23 = (4)(1) + (−5)(−8) + (6)(−1) = 4 + 40 − 6 = 38\n",
    "\n",
    "Third row of A with all columns of B:\n",
    "c31 = (2)(0) + (7)(0) + (8)(2) = 0 + 0 + 16 = 16\n",
    "c32 = (2)(2) + (7)(2) + (8)(9) = 4 + 14 + 72 = 90\n",
    "c33 = (2)(1) + (7)(−8) + (8)(−1) = 2 − 56 − 8 = −62\n",
    "\n",
    "C = AB ={6  29 -20}\n",
    "        {12 52  38}\n",
    "        {16 90 -62}"
   ]
  },
  {
   "cell_type": "code",
   "execution_count": 1,
   "metadata": {},
   "outputs": [
    {
     "data": {
      "text/plain": [
       "array([[  6,  29, -20],\n",
       "       [ 12,  52,  38],\n",
       "       [ 16,  90, -62]])"
      ]
     },
     "execution_count": 1,
     "metadata": {},
     "output_type": "execute_result"
    }
   ],
   "source": [
    "import numpy as np\n",
    "\n",
    "# Define matrices A and B\n",
    "A = np.array([\n",
    "    [-1, 2, 3],\n",
    "    [4, -5, 6],\n",
    "    [2, 7, 8]\n",
    "])\n",
    "\n",
    "B = np.array([\n",
    "    [0, 2, 1],\n",
    "    [0, 2, -8],\n",
    "    [2, 9, -1]\n",
    "])\n",
    "\n",
    "# Compute the matrix product using np.matmul (or equivalently np.dot or @)\n",
    "C = np.matmul(A, B)\n",
    "\n",
    "C\n"
   ]
  },
  {
   "cell_type": "code",
   "execution_count": 2,
   "metadata": {},
   "outputs": [
    {
     "data": {
      "text/plain": [
       "np.int64(6)"
      ]
     },
     "execution_count": 2,
     "metadata": {},
     "output_type": "execute_result"
    }
   ],
   "source": [
    "# Define the summation calculation\n",
    "result = sum(A[0, k] * B[k, 0] for k in range(3))  # Summation for k=0, 1, 2\n",
    "result\n"
   ]
  },
  {
   "cell_type": "code",
   "execution_count": 1,
   "metadata": {},
   "outputs": [
    {
     "name": "stdout",
     "output_type": "stream",
     "text": [
      "Resultant Matrix C:\n",
      "[[  6  29 -20]\n",
      " [ 12  52  38]\n",
      " [-18 -51 -48]]\n"
     ]
    }
   ],
   "source": [
    "import numpy as np\n",
    "\n",
    "def matrix_multiplication(A, B):\n",
    "    # Get dimensions\n",
    "    rows_A, cols_A = len(A), len(A[0])\n",
    "    rows_B, cols_B = len(B), len(B[0])\n",
    "    \n",
    "    # Check if multiplication is possible\n",
    "    if cols_A != rows_B:\n",
    "        raise ValueError(\"Number of columns in A must equal number of rows in B\")\n",
    "    \n",
    "    # Initialize result matrix with zeros\n",
    "    C = [[0 for _ in range(cols_B)] for _ in range(rows_A)]\n",
    "    \n",
    "    # Compute matrix multiplication\n",
    "    for i in range(rows_A):\n",
    "        for j in range(cols_B):\n",
    "            for k in range(cols_A):\n",
    "                C[i][j] += A[i][k] * B[k][j]\n",
    "    \n",
    "    return C\n",
    "\n",
    "# Example matrices A and B\n",
    "A = [[-1, 2, 3],\n",
    "     [4, -5, 6],\n",
    "     [7, 8, -9]]\n",
    "\n",
    "B = [[0, 2, 1],\n",
    "     [0, 2, -8],\n",
    "     [2, 9, -1]]\n",
    "\n",
    "# Perform multiplication\n",
    "C = matrix_multiplication(A, B)\n",
    "print(\"Resultant Matrix C:\")\n",
    "print(np.array(C))\n"
   ]
  },
  {
   "cell_type": "code",
   "execution_count": 3,
   "metadata": {},
   "outputs": [
    {
     "name": "stdout",
     "output_type": "stream",
     "text": [
      "Resultant Matrix C:\n",
      "[[  6  29 -20]\n",
      " [ 12  52  38]\n",
      " [-18 -51 -48]]\n",
      "Error: Matrix multiplication not possible. Columns of A (3) must match rows of B (2).\n"
     ]
    }
   ],
   "source": [
    "import numpy as np\n",
    "\n",
    "def matrix_multiplication(A, B):\n",
    "    # Validate inputs\n",
    "    if not isinstance(A, (list, np.ndarray)) or not isinstance(B, (list, np.ndarray)):\n",
    "        raise TypeError(\"Both inputs must be 2D lists or NumPy arrays.\")\n",
    "\n",
    "    if not all(isinstance(row, (list, np.ndarray)) for row in A) or not all(isinstance(row, (list, np.ndarray)) for row in B):\n",
    "        raise TypeError(\"Both matrices must be 2D lists or NumPy arrays.\")\n",
    "\n",
    "    # Get dimensions\n",
    "    rows_A, cols_A = len(A), len(A[0])\n",
    "    rows_B, cols_B = len(B), len(B[0])\n",
    "\n",
    "    # Ensure all rows have the same length\n",
    "    if any(len(row) != cols_A for row in A) or any(len(row) != cols_B for row in B):\n",
    "        raise ValueError(\"All rows in each matrix must have the same number of columns.\")\n",
    "\n",
    "    # Check for matrix multiplication compatibility\n",
    "    if cols_A != rows_B:\n",
    "        raise ValueError(f\"Matrix multiplication not possible. Columns of A ({cols_A}) must match rows of B ({rows_B}).\")\n",
    "\n",
    "    # Initialize result matrix with zeros\n",
    "    C = [[0 for _ in range(cols_B)] for _ in range(rows_A)]\n",
    "\n",
    "    # Perform matrix multiplication\n",
    "    for i in range(rows_A):\n",
    "        for j in range(cols_B):\n",
    "            for k in range(cols_A):\n",
    "                C[i][j] += A[i][k] * B[k][j]\n",
    "\n",
    "    return C\n",
    "\n",
    "# Example matrices\n",
    "A = [[-1, 2, 3],\n",
    "     [4, -5, 6],\n",
    "     [7, 8, -9]]\n",
    "\n",
    "B = [[0, 2, 1],\n",
    "     [0, 2, -8],\n",
    "     [2, 9, -1]]\n",
    "\n",
    "# Invalid matrices for testing\n",
    "D = [[1, 2, 3], \n",
    "     [4, 5, 6]]  # Uneven row length\n",
    "\n",
    "E = [[1, 2], \n",
    "     [3, 4]]\n",
    "\n",
    "# Try with valid matrices\n",
    "try:\n",
    "    C = matrix_multiplication(A, B)\n",
    "    print(\"Resultant Matrix C:\")\n",
    "    print(np.array(C))\n",
    "except (ValueError, TypeError) as e:\n",
    "    print(f\"Error: {e}\")\n",
    "\n",
    "# Try with invalid matrices\n",
    "try:\n",
    "    C = matrix_multiplication(D, E)\n",
    "    print(\"Resultant Matrix C:\")\n",
    "    print(np.array(C))\n",
    "except (ValueError, TypeError) as e:\n",
    "    print(f\"Error: {e}\")\n"
   ]
  },
  {
   "cell_type": "code",
   "execution_count": 4,
   "metadata": {},
   "outputs": [
    {
     "name": "stdout",
     "output_type": "stream",
     "text": [
      "Matrix A:\n",
      "[[-1  2  3]\n",
      " [ 4 -5  6]\n",
      " [ 7  8 -9]]\n",
      "\n",
      "Matrix B (before transpose):\n",
      "[[ 0  2  1]\n",
      " [ 0  2 -8]\n",
      " [ 2  9 -1]]\n",
      "\n",
      "Matrix B (after transpose):\n",
      "[[ 0  0  2]\n",
      " [ 2  2  9]\n",
      " [ 1 -8 -1]]\n",
      "\n",
      "Resultant Matrix C:\n",
      "[[  7 -20  13]\n",
      " [ -4 -58 -43]\n",
      " [  7  88  95]]\n"
     ]
    }
   ],
   "source": [
    "import numpy as np\n",
    "\n",
    "def matrix_multiplication_with_transpose(A, B):\n",
    "    # Transpose the second matrix\n",
    "    B_transposed = np.transpose(B)  # Alternatively, you can use B.T if B is a NumPy array.\n",
    "\n",
    "    # Perform matrix multiplication\n",
    "    result = np.dot(A, B_transposed)  # Dot product handles multiplication.\n",
    "    return result\n",
    "\n",
    "# Example matrices\n",
    "A = np.array([[-1, 2, 3],\n",
    "              [4, -5, 6],\n",
    "              [7, 8, -9]])\n",
    "\n",
    "B = np.array([[0, 2, 1],\n",
    "              [0, 2, -8],\n",
    "              [2, 9, -1]])\n",
    "\n",
    "# Transpose B and compute the product\n",
    "C = matrix_multiplication_with_transpose(A, B)\n",
    "\n",
    "print(\"Matrix A:\")\n",
    "print(A)\n",
    "print(\"\\nMatrix B (before transpose):\")\n",
    "print(B)\n",
    "print(\"\\nMatrix B (after transpose):\")\n",
    "print(np.transpose(B))\n",
    "print(\"\\nResultant Matrix C:\")\n",
    "print(C)\n"
   ]
  },
  {
   "cell_type": "code",
   "execution_count": null,
   "metadata": {},
   "outputs": [],
   "source": []
  }
 ],
 "metadata": {
  "kernelspec": {
   "display_name": "Python 3",
   "language": "python",
   "name": "python3"
  },
  "language_info": {
   "codemirror_mode": {
    "name": "ipython",
    "version": 3
   },
   "file_extension": ".py",
   "mimetype": "text/x-python",
   "name": "python",
   "nbconvert_exporter": "python",
   "pygments_lexer": "ipython3",
   "version": "3.11.9"
  }
 },
 "nbformat": 4,
 "nbformat_minor": 2
}
